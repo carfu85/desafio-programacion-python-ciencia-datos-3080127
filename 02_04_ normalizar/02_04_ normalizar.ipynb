{
 "cells": [
  {
   "cell_type": "code",
   "execution_count": 1,
   "metadata": {},
   "outputs": [],
   "source": [
    "import pandas as pd\n",
    "from sklearn.preprocessing import MinMaxScaler"
   ]
  },
  {
   "cell_type": "code",
   "execution_count": 2,
   "metadata": {},
   "outputs": [],
   "source": [
    "df = pd.read_csv('datos.csv', delimiter=\";\")"
   ]
  },
  {
   "cell_type": "code",
   "execution_count": 3,
   "metadata": {},
   "outputs": [
    {
     "name": "stdout",
     "output_type": "stream",
     "text": [
      "    Altura    Peso\n",
      "0     1.68   63.11\n",
      "1     1.70   64.47\n",
      "2     1.73   66.28\n",
      "3     1.75   68.10\n",
      "4     1.78   69.92\n",
      "5     1.80   72.19\n",
      "6     1.83   74.46\n",
      "7     1.57  105.18\n",
      "8     1.19  114.41\n",
      "9     1.74   82.30\n",
      "10    1.82  117.53\n",
      "11    1.32  104.75\n",
      "12    1.40   58.88\n",
      "13    1.14   66.02\n",
      "14    1.25  106.64\n",
      "15    1.71  110.20\n",
      "16    1.39   82.25\n",
      "17    1.55  100.12\n",
      "18    1.55   92.07\n",
      "19    1.93  129.42\n"
     ]
    }
   ],
   "source": [
    "print(df.head(20))"
   ]
  },
  {
   "cell_type": "code",
   "execution_count": 4,
   "metadata": {},
   "outputs": [],
   "source": [
    "scaler = MinMaxScaler()"
   ]
  },
  {
   "cell_type": "code",
   "execution_count": 5,
   "metadata": {},
   "outputs": [],
   "source": [
    "scaled=scaler.fit_transform(df)"
   ]
  },
  {
   "cell_type": "code",
   "execution_count": 7,
   "metadata": {},
   "outputs": [
    {
     "name": "stdout",
     "output_type": "stream",
     "text": [
      "      Altura      Peso\n",
      "0   0.655172  0.141173\n",
      "1   0.678161  0.158788\n",
      "2   0.712644  0.182230\n",
      "3   0.735632  0.205802\n",
      "4   0.770115  0.229374\n",
      "5   0.793103  0.258775\n",
      "6   0.827586  0.288175\n",
      "7   0.528736  0.686051\n",
      "8   0.091954  0.805595\n",
      "9   0.724138  0.389716\n",
      "10  0.816092  0.846004\n",
      "11  0.241379  0.680482\n",
      "12  0.333333  0.086388\n",
      "13  0.034483  0.178863\n",
      "14  0.160920  0.704960\n",
      "15  0.689655  0.751069\n",
      "16  0.321839  0.389069\n",
      "17  0.505747  0.620515\n",
      "18  0.505747  0.516254\n",
      "19  0.942529  1.000000\n"
     ]
    }
   ],
   "source": [
    "scaled_df = pd.DataFrame(scaled, columns=['Altura', 'Peso'])\n",
    "print(scaled_df.head(20))"
   ]
  },
  {
   "cell_type": "code",
   "execution_count": null,
   "metadata": {},
   "outputs": [],
   "source": []
  }
 ],
 "metadata": {
  "kernelspec": {
   "display_name": "Python 3.8.11 64-bit",
   "language": "python",
   "name": "python3"
  },
  "language_info": {
   "codemirror_mode": {
    "name": "ipython",
    "version": 3
   },
   "file_extension": ".py",
   "mimetype": "text/x-python",
   "name": "python",
   "nbconvert_exporter": "python",
   "pygments_lexer": "ipython3",
   "version": "3.12.2"
  },
  "orig_nbformat": 4,
  "vscode": {
   "interpreter": {
    "hash": "1ee38ef4a5a9feb55287fd749643f13d043cb0a7addaab2a9c224cbe137c0062"
   }
  }
 },
 "nbformat": 4,
 "nbformat_minor": 2
}
